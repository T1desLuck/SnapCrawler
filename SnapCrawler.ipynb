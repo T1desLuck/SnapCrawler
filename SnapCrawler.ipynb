{
  "cells": [
    {
      "cell_type": "markdown",
      "metadata": {
        "id": "view-in-github",
        "colab_type": "text"
      },
      "source": [
        "<a href=\"https://colab.research.google.com/github/T1desLuck/SnapCrawler/blob/main/SnapCrawler.ipynb\" target=\"_parent\"><img src=\"https://colab.research.google.com/assets/colab-badge.svg\" alt=\"Open In Colab\"/></a>"
      ]
    },
    {
      "cell_type": "code",
      "execution_count": null,
      "metadata": {
        "id": "RezCIWYM-G3p"
      },
      "outputs": [],
      "source": [
        "# УСТАНОВКА &     НАСТРОЙКА\n",
        "!git clone https://github.com/T1desLuck/SnapCrawler.git\n",
        "%cd SnapCrawler\n",
        "!pip install -r requirements.txt\n",
        "!playwright install chromium"
      ]
    },
    {
      "cell_type": "code",
      "source": [
        "# ЗАГРУЗКА РЕЗУЛЬТАТОВ НА ДИСК\n",
        "from google.colab import drive\n",
        "drive.mount('/content/drive')\n",
        "\n",
        "# Пример: сменить директорию вывода на Google Drive\n",
        "import yaml\n",
        "cfg = yaml.safe_load(open('config.yaml', 'r'))\n",
        "cfg['general']['output_dir'] = '/content/drive/MyDrive/snapcrawler_downloads'\n",
        "yaml.safe_dump(cfg, open('config.yaml', 'w'), allow_unicode=True)"
      ],
      "metadata": {
        "id": "pEckLhtcYaFJ"
      },
      "execution_count": null,
      "outputs": []
    },
    {
      "cell_type": "code",
      "source": [
        "# ЗАПУСК В ПОСЛЕДОВАТЕЛЬНОМ РЕЖИМЕ\n",
        "# !python -m scrapy crawl image_spider -s LOG_LEVEL=INFO\n",
        "\n",
        "# ЗАПУСК В ПАРАЛЕЛЬНОМ РЕЖИМЕ\n",
        "!python run_parallel.py"
      ],
      "metadata": {
        "id": "t9I0V6-hY0px"
      },
      "execution_count": null,
      "outputs": []
    }
  ],
  "metadata": {
    "colab": {
      "provenance": [],
      "authorship_tag": "ABX9TyMDtu2rnXz3gcPxa7YyRNu3",
      "include_colab_link": true
    },
    "kernelspec": {
      "display_name": "Python 3",
      "name": "python3"
    },
    "language_info": {
      "name": "python"
    }
  },
  "nbformat": 4,
  "nbformat_minor": 0
}